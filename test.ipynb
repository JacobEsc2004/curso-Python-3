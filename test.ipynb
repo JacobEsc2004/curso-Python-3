{
 "cells": [
  {
   "attachments": {},
   "cell_type": "markdown",
   "metadata": {},
   "source": [
    "# Mi primer cuaderno de Jupyter"
   ]
  },
  {
   "cell_type": "code",
   "execution_count": null,
   "metadata": {},
   "outputs": [],
   "source": [
    "print(\"Hola mundo\")"
   ]
  },
  {
   "attachments": {},
   "cell_type": "markdown",
   "metadata": {},
   "source": [
    "## Input"
   ]
  },
  {
   "cell_type": "code",
   "execution_count": 7,
   "metadata": {},
   "outputs": [
    {
     "name": "stdout",
     "output_type": "stream",
     "text": [
      "23\n"
     ]
    }
   ],
   "source": [
    "num=int(input(\"Ingresa un numero\"))\n",
    "print(num)"
   ]
  },
  {
   "attachments": {},
   "cell_type": "markdown",
   "metadata": {},
   "source": [
    "## Indexacion"
   ]
  },
  {
   "cell_type": "code",
   "execution_count": 8,
   "metadata": {},
   "outputs": [
    {
     "name": "stdout",
     "output_type": "stream",
     "text": [
      "a\n",
      "py\n",
      "thon\n"
     ]
    }
   ],
   "source": [
    "fruta = 'banana'\n",
    "letra = fruta[1]\n",
    "print(letra)\n"
   ]
  },
  {
   "attachments": {},
   "cell_type": "markdown",
   "metadata": {},
   "source": [
    "## Slice "
   ]
  },
  {
   "cell_type": "code",
   "execution_count": null,
   "metadata": {},
   "outputs": [],
   "source": [
    "cadena = 'python'\n",
    "print(cadena[0:2])\n",
    "print(cadena[2:6])"
   ]
  },
  {
   "attachments": {},
   "cell_type": "markdown",
   "metadata": {},
   "source": [
    "## Cadenas"
   ]
  },
  {
   "cell_type": "code",
   "execution_count": 9,
   "metadata": {},
   "outputs": [
    {
     "name": "stdout",
     "output_type": "stream",
     "text": [
      "BANANA\n",
      "banana\n",
      "1\n"
     ]
    },
    {
     "data": {
      "text/plain": [
       "True"
      ]
     },
     "execution_count": 9,
     "metadata": {},
     "output_type": "execute_result"
    }
   ],
   "source": [
    "cadena = 'banana'\n",
    "palabra = cadena.upper()\n",
    "print(palabra)\n",
    "\n",
    "palabra = cadena.lower()\n",
    "print(palabra)\n",
    "\n",
    "indice = cadena.find('a')\n",
    "print(indice)\n",
    "\n",
    "'a' in 'banana'"
   ]
  },
  {
   "attachments": {},
   "cell_type": "markdown",
   "metadata": {},
   "source": [
    "## Ingresa un numero"
   ]
  },
  {
   "cell_type": "code",
   "execution_count": null,
   "metadata": {},
   "outputs": [],
   "source": [
    "#IF\n",
    "x = 8\n",
    "if x > 5:\n",
    "  print(\"Positivo\")\n",
    "else:\n",
    "  print(\"Negativo\")\n",
    "#Try/Except\n",
    "try:\n",
    "  fahrenheit = float(inp)\n",
    "  celsius = ((fahrenheit - 32.0)* 5.0 / 9.0)\n",
    "  print(celsius)\n",
    "except:\n",
    "  print(\"Ingresa un numero\")\n",
    "#While\n",
    "n = 5\n",
    "while n>0:\n",
    "  print(n)\n",
    "  n=n-1\n",
    "print(\"Boom!\")\n",
    "#For\n",
    "alumnos = ['Ana', 'Luis', 'Andy']\n",
    "for alumno in alumnos:\n",
    "  print(f\"Hola, {alumno}, bienvenido al curso!\")\n",
    "print(\"Continuemos\")"
   ]
  },
  {
   "attachments": {},
   "cell_type": "markdown",
   "metadata": {},
   "source": [
    "## Funciones"
   ]
  },
  {
   "cell_type": "code",
   "execution_count": null,
   "metadata": {},
   "outputs": [],
   "source": [
    "def imprimir_letras():\n",
    "  print(\"But i'm in so deep\")\n",
    "  print(\"You know I'm such a fool for you\" )\n",
    "imprimir_letras()\n",
    "def imprimir_doble(dato):\n",
    "  print(dato*2)\n",
    "imprimir_doble(int(input(\"Ingresa un numero\")))\n",
    "def adicion(a, b):\n",
    "  suma = a + b\n",
    "  return suma\n",
    "adicion(15, 32)\n",
    "\n",
    "max(12, 193)\n",
    "min(3, 383)\n",
    "int(23.84)\n",
    "float(54)"
   ]
  },
  {
   "attachments": {},
   "cell_type": "markdown",
   "metadata": {},
   "source": [
    "## Manipulacion de archivos"
   ]
  },
  {
   "cell_type": "code",
   "execution_count": null,
   "metadata": {},
   "outputs": [],
   "source": [
    "archivo = open(\"texto.txt\", \"r\")\n",
    "contenido = archivo.read()\n",
    "print(contenido)"
   ]
  },
  {
   "cell_type": "code",
   "execution_count": null,
   "metadata": {},
   "outputs": [],
   "source": [
    "archivo = open(\"nuevo.txt\", \"w\")\n",
    "archivo.write(\"Programa de desarrollo de talentos 2023\")\n",
    "archivo.close()"
   ]
  },
  {
   "cell_type": "code",
   "execution_count": null,
   "metadata": {},
   "outputs": [],
   "source": [
    "with open(\"nuevo.txt\", \"r\") as archivo:\n",
    "  contenido = archivo.read()\n",
    "  print(contenido)"
   ]
  },
  {
   "attachments": {},
   "cell_type": "markdown",
   "metadata": {},
   "source": [
    "## Clases y objetos"
   ]
  },
  {
   "cell_type": "code",
   "execution_count": null,
   "metadata": {},
   "outputs": [],
   "source": [
    "class Perro:\n",
    "  def __init__(self, nombre, edad, raza):\n",
    "    self.nombre = nombre\n",
    "    self.edad = edad\n",
    "    self.raza = raza\n",
    "  def ladrar(self):\n",
    "    return f\"{self.nombre}: guau guau\"\n",
    "  def saludar(self):\n",
    "    return f\"{self.nombre}: Hola, tengo {self.edad} años y soy de raza {self.raza}\"\n",
    "\n",
    "perrito = Perro(\"Loki\", 2, \"Pug\")\n",
    "perro1 = Perro(\"Buddy\", 3, \"Labrador\")\n",
    "perro2 = Perro(\"Rocky\", 2, \"Bulldog\")\n",
    "\n",
    "print(perrito.ladrar())\n",
    "print(perrito.saludar())"
   ]
  }
 ],
 "metadata": {
  "kernelspec": {
   "display_name": "Python 3",
   "language": "python",
   "name": "python3"
  },
  "language_info": {
   "codemirror_mode": {
    "name": "ipython",
    "version": 3
   },
   "file_extension": ".py",
   "mimetype": "text/x-python",
   "name": "python",
   "nbconvert_exporter": "python",
   "pygments_lexer": "ipython3",
   "version": "3.11.3"
  },
  "orig_nbformat": 4
 },
 "nbformat": 4,
 "nbformat_minor": 2
}
